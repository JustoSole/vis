{
  "nbformat": 4,
  "nbformat_minor": 0,
  "metadata": {
    "colab": {
      "name": "fetemba ranking 16 de Julio 2018.ipynb",
      "version": "0.3.2",
      "views": {},
      "default_view": {},
      "provenance": []
    },
    "kernelspec": {
      "name": "python3",
      "display_name": "Python 3"
    }
  },
  "cells": [
    {
      "metadata": {
        "id": "ZUh4u7F2DI2c",
        "colab_type": "text"
      },
      "cell_type": "markdown",
      "source": [
        "# Top 10"
      ]
    },
    {
      "metadata": {
        "id": "KgNsXuhl_11W",
        "colab_type": "code",
        "colab": {
          "autoexec": {
            "startup": false,
            "wait_interval": 0
          },
          "base_uri": "https://localhost:8080/",
          "height": 359
        },
        "outputId": "9c430b36-0c26-4e3b-9162-bb63bde71bf4",
        "executionInfo": {
          "status": "ok",
          "timestamp": 1532029073994,
          "user_tz": 180,
          "elapsed": 1396,
          "user": {
            "displayName": "Aizemberg Ariel",
            "photoUrl": "//lh3.googleusercontent.com/-AvOFTm_6_SQ/AAAAAAAAAAI/AAAAAAAAADM/q8w7UntCKso/s50-c-k-no/photo.jpg",
            "userId": "110482283134644821546"
          }
        }
      },
      "cell_type": "code",
      "source": [
        "import pandas as pd\n",
        "df = pd.read_csv(\"https://raw.githubusercontent.com/aaizemberg/vis/gh-pages/pod/fetemba-julio16-2018.tsv\", sep='\\t')\n",
        "df.head(10)"
      ],
      "execution_count": 27,
      "outputs": [
        {
          "output_type": "execute_result",
          "data": {
            "text/html": [
              "<div>\n",
              "<style scoped>\n",
              "    .dataframe tbody tr th:only-of-type {\n",
              "        vertical-align: middle;\n",
              "    }\n",
              "\n",
              "    .dataframe tbody tr th {\n",
              "        vertical-align: top;\n",
              "    }\n",
              "\n",
              "    .dataframe thead th {\n",
              "        text-align: right;\n",
              "    }\n",
              "</style>\n",
              "<table border=\"1\" class=\"dataframe\">\n",
              "  <thead>\n",
              "    <tr style=\"text-align: right;\">\n",
              "      <th></th>\n",
              "      <th>pos</th>\n",
              "      <th>nombre</th>\n",
              "      <th>categoria</th>\n",
              "      <th>club</th>\n",
              "      <th>puntos</th>\n",
              "      <th>variacion</th>\n",
              "    </tr>\n",
              "  </thead>\n",
              "  <tbody>\n",
              "    <tr>\n",
              "      <th>0</th>\n",
              "      <td>1</td>\n",
              "      <td>Bayona, Lucas</td>\n",
              "      <td>División de Honor</td>\n",
              "      <td>La Reja</td>\n",
              "      <td>3219</td>\n",
              "      <td>39</td>\n",
              "    </tr>\n",
              "    <tr>\n",
              "      <th>1</th>\n",
              "      <td>2</td>\n",
              "      <td>Bentancor, Martín</td>\n",
              "      <td>División de Honor</td>\n",
              "      <td>Ferrocarril Oeste</td>\n",
              "      <td>3108</td>\n",
              "      <td>-24</td>\n",
              "    </tr>\n",
              "    <tr>\n",
              "      <th>2</th>\n",
              "      <td>3</td>\n",
              "      <td>Fuentes, Leandro</td>\n",
              "      <td>División de Honor</td>\n",
              "      <td>Ferrocarril Oeste</td>\n",
              "      <td>2993</td>\n",
              "      <td>28</td>\n",
              "    </tr>\n",
              "    <tr>\n",
              "      <th>3</th>\n",
              "      <td>4</td>\n",
              "      <td>Orencel Melnick, Alexis</td>\n",
              "      <td>División de Honor</td>\n",
              "      <td>Macabi</td>\n",
              "      <td>2799</td>\n",
              "      <td>-11</td>\n",
              "    </tr>\n",
              "    <tr>\n",
              "      <th>4</th>\n",
              "      <td>5</td>\n",
              "      <td>Saragovi, Pablo</td>\n",
              "      <td>División de Honor</td>\n",
              "      <td>Alvear Club</td>\n",
              "      <td>2756</td>\n",
              "      <td>-16</td>\n",
              "    </tr>\n",
              "    <tr>\n",
              "      <th>5</th>\n",
              "      <td>6</td>\n",
              "      <td>Costantino, Daniel</td>\n",
              "      <td>División de Honor</td>\n",
              "      <td>River Plate</td>\n",
              "      <td>2754</td>\n",
              "      <td>49</td>\n",
              "    </tr>\n",
              "    <tr>\n",
              "      <th>6</th>\n",
              "      <td>7</td>\n",
              "      <td>Criado, Federico</td>\n",
              "      <td>División de Honor</td>\n",
              "      <td>Club Fenix</td>\n",
              "      <td>2639</td>\n",
              "      <td>39</td>\n",
              "    </tr>\n",
              "    <tr>\n",
              "      <th>7</th>\n",
              "      <td>8</td>\n",
              "      <td>Guadalupe, Matías</td>\n",
              "      <td>División de Honor</td>\n",
              "      <td>Ferrocarril Oeste</td>\n",
              "      <td>2631</td>\n",
              "      <td>38</td>\n",
              "    </tr>\n",
              "    <tr>\n",
              "      <th>8</th>\n",
              "      <td>9</td>\n",
              "      <td>Pighini, Matías</td>\n",
              "      <td>División de Honor</td>\n",
              "      <td>Ntra. Señora Lourdes</td>\n",
              "      <td>2579</td>\n",
              "      <td>5</td>\n",
              "    </tr>\n",
              "    <tr>\n",
              "      <th>9</th>\n",
              "      <td>10</td>\n",
              "      <td>Waldszan, Matías</td>\n",
              "      <td>División de Honor</td>\n",
              "      <td>Macabi</td>\n",
              "      <td>2573</td>\n",
              "      <td>6</td>\n",
              "    </tr>\n",
              "  </tbody>\n",
              "</table>\n",
              "</div>"
            ],
            "text/plain": [
              "   pos                   nombre          categoria                  club  \\\n",
              "0    1            Bayona, Lucas  División de Honor               La Reja   \n",
              "1    2        Bentancor, Martín  División de Honor     Ferrocarril Oeste   \n",
              "2    3         Fuentes, Leandro  División de Honor     Ferrocarril Oeste   \n",
              "3    4  Orencel Melnick, Alexis  División de Honor                Macabi   \n",
              "4    5          Saragovi, Pablo  División de Honor           Alvear Club   \n",
              "5    6       Costantino, Daniel  División de Honor           River Plate   \n",
              "6    7         Criado, Federico  División de Honor            Club Fenix   \n",
              "7    8        Guadalupe, Matías  División de Honor     Ferrocarril Oeste   \n",
              "8    9          Pighini, Matías  División de Honor  Ntra. Señora Lourdes   \n",
              "9   10         Waldszan, Matías  División de Honor                Macabi   \n",
              "\n",
              "   puntos  variacion  \n",
              "0    3219         39  \n",
              "1    3108        -24  \n",
              "2    2993         28  \n",
              "3    2799        -11  \n",
              "4    2756        -16  \n",
              "5    2754         49  \n",
              "6    2639         39  \n",
              "7    2631         38  \n",
              "8    2579          5  \n",
              "9    2573          6  "
            ]
          },
          "metadata": {
            "tags": []
          },
          "execution_count": 27
        }
      ]
    },
    {
      "metadata": {
        "id": "6rzip-4wCgPU",
        "colab_type": "text"
      },
      "cell_type": "markdown",
      "source": [
        "# Los mejores 10 clubes, segun el desempeño de sus jugadores"
      ]
    },
    {
      "metadata": {
        "id": "vl93_WboARhe",
        "colab_type": "code",
        "colab": {
          "autoexec": {
            "startup": false,
            "wait_interval": 0
          },
          "base_uri": "https://localhost:8080/",
          "height": 390
        },
        "outputId": "2a3004af-0084-46df-919d-ae835a9a964f",
        "executionInfo": {
          "status": "ok",
          "timestamp": 1532029009016,
          "user_tz": 180,
          "elapsed": 987,
          "user": {
            "displayName": "Aizemberg Ariel",
            "photoUrl": "//lh3.googleusercontent.com/-AvOFTm_6_SQ/AAAAAAAAAAI/AAAAAAAAADM/q8w7UntCKso/s50-c-k-no/photo.jpg",
            "userId": "110482283134644821546"
          }
        }
      },
      "cell_type": "code",
      "source": [
        "df[['club','variacion']].groupby('club').sum().sort_values(by='variacion', ascending=False).head(10)"
      ],
      "execution_count": 25,
      "outputs": [
        {
          "output_type": "execute_result",
          "data": {
            "text/html": [
              "<div>\n",
              "<style scoped>\n",
              "    .dataframe tbody tr th:only-of-type {\n",
              "        vertical-align: middle;\n",
              "    }\n",
              "\n",
              "    .dataframe tbody tr th {\n",
              "        vertical-align: top;\n",
              "    }\n",
              "\n",
              "    .dataframe thead th {\n",
              "        text-align: right;\n",
              "    }\n",
              "</style>\n",
              "<table border=\"1\" class=\"dataframe\">\n",
              "  <thead>\n",
              "    <tr style=\"text-align: right;\">\n",
              "      <th></th>\n",
              "      <th>variacion</th>\n",
              "    </tr>\n",
              "    <tr>\n",
              "      <th>club</th>\n",
              "      <th></th>\n",
              "    </tr>\n",
              "  </thead>\n",
              "  <tbody>\n",
              "    <tr>\n",
              "      <th>Gimnasty</th>\n",
              "      <td>1288</td>\n",
              "    </tr>\n",
              "    <tr>\n",
              "      <th>Alvear Club</th>\n",
              "      <td>1112</td>\n",
              "    </tr>\n",
              "    <tr>\n",
              "      <th>Club Fenix</th>\n",
              "      <td>615</td>\n",
              "    </tr>\n",
              "    <tr>\n",
              "      <th>Ntra. Señora Lourdes</th>\n",
              "      <td>553</td>\n",
              "    </tr>\n",
              "    <tr>\n",
              "      <th>Ferrocarril Oeste</th>\n",
              "      <td>507</td>\n",
              "    </tr>\n",
              "    <tr>\n",
              "      <th>La Legión TDM</th>\n",
              "      <td>456</td>\n",
              "    </tr>\n",
              "    <tr>\n",
              "      <th>Peretz</th>\n",
              "      <td>422</td>\n",
              "    </tr>\n",
              "    <tr>\n",
              "      <th>Top Minc</th>\n",
              "      <td>399</td>\n",
              "    </tr>\n",
              "    <tr>\n",
              "      <th>UGAB</th>\n",
              "      <td>313</td>\n",
              "    </tr>\n",
              "    <tr>\n",
              "      <th>MTMs</th>\n",
              "      <td>311</td>\n",
              "    </tr>\n",
              "  </tbody>\n",
              "</table>\n",
              "</div>"
            ],
            "text/plain": [
              "                      variacion\n",
              "club                           \n",
              "Gimnasty                   1288\n",
              "Alvear Club                1112\n",
              "Club Fenix                  615\n",
              "Ntra. Señora Lourdes        553\n",
              "Ferrocarril Oeste           507\n",
              "La Legión TDM               456\n",
              "Peretz                      422\n",
              "Top Minc                    399\n",
              "UGAB                        313\n",
              "MTMs                        311"
            ]
          },
          "metadata": {
            "tags": []
          },
          "execution_count": 25
        }
      ]
    },
    {
      "metadata": {
        "id": "g7S7EFQWCZJ1",
        "colab_type": "text"
      },
      "cell_type": "markdown",
      "source": [
        "# Los peores 5 clubes, segun el desempeño de sus jugadores"
      ]
    },
    {
      "metadata": {
        "id": "flmGq_OrCWDj",
        "colab_type": "code",
        "colab": {
          "autoexec": {
            "startup": false,
            "wait_interval": 0
          },
          "base_uri": "https://localhost:8080/",
          "height": 390
        },
        "outputId": "7768f9d1-58ec-411f-e4f0-fea6f372b36f",
        "executionInfo": {
          "status": "ok",
          "timestamp": 1532029022490,
          "user_tz": 180,
          "elapsed": 1144,
          "user": {
            "displayName": "Aizemberg Ariel",
            "photoUrl": "//lh3.googleusercontent.com/-AvOFTm_6_SQ/AAAAAAAAAAI/AAAAAAAAADM/q8w7UntCKso/s50-c-k-no/photo.jpg",
            "userId": "110482283134644821546"
          }
        }
      },
      "cell_type": "code",
      "source": [
        "df[['club','variacion']].groupby('club').sum().sort_values(by='variacion', ascending=True).head(10)"
      ],
      "execution_count": 26,
      "outputs": [
        {
          "output_type": "execute_result",
          "data": {
            "text/html": [
              "<div>\n",
              "<style scoped>\n",
              "    .dataframe tbody tr th:only-of-type {\n",
              "        vertical-align: middle;\n",
              "    }\n",
              "\n",
              "    .dataframe tbody tr th {\n",
              "        vertical-align: top;\n",
              "    }\n",
              "\n",
              "    .dataframe thead th {\n",
              "        text-align: right;\n",
              "    }\n",
              "</style>\n",
              "<table border=\"1\" class=\"dataframe\">\n",
              "  <thead>\n",
              "    <tr style=\"text-align: right;\">\n",
              "      <th></th>\n",
              "      <th>variacion</th>\n",
              "    </tr>\n",
              "    <tr>\n",
              "      <th>club</th>\n",
              "      <th></th>\n",
              "    </tr>\n",
              "  </thead>\n",
              "  <tbody>\n",
              "    <tr>\n",
              "      <th>Tigre Juniors</th>\n",
              "      <td>-120</td>\n",
              "    </tr>\n",
              "    <tr>\n",
              "      <th>Macabi</th>\n",
              "      <td>-108</td>\n",
              "    </tr>\n",
              "    <tr>\n",
              "      <th>CEDIMA</th>\n",
              "      <td>-89</td>\n",
              "    </tr>\n",
              "    <tr>\n",
              "      <th>Libre</th>\n",
              "      <td>-74</td>\n",
              "    </tr>\n",
              "    <tr>\n",
              "      <th>UBA Exactas</th>\n",
              "      <td>-71</td>\n",
              "    </tr>\n",
              "    <tr>\n",
              "      <th>Adrogue Sith Spin</th>\n",
              "      <td>-55</td>\n",
              "    </tr>\n",
              "    <tr>\n",
              "      <th>Oeste TDM Catán</th>\n",
              "      <td>-53</td>\n",
              "    </tr>\n",
              "    <tr>\n",
              "      <th>C.A.S.A. de Padua</th>\n",
              "      <td>-46</td>\n",
              "    </tr>\n",
              "    <tr>\n",
              "      <th>Club Peñarol</th>\n",
              "      <td>-45</td>\n",
              "    </tr>\n",
              "    <tr>\n",
              "      <th>River Plate</th>\n",
              "      <td>-25</td>\n",
              "    </tr>\n",
              "  </tbody>\n",
              "</table>\n",
              "</div>"
            ],
            "text/plain": [
              "                   variacion\n",
              "club                        \n",
              "Tigre Juniors           -120\n",
              "Macabi                  -108\n",
              "CEDIMA                   -89\n",
              "Libre                    -74\n",
              "UBA Exactas              -71\n",
              "Adrogue Sith Spin        -55\n",
              "Oeste TDM Catán          -53\n",
              "C.A.S.A. de Padua        -46\n",
              "Club Peñarol             -45\n",
              "River Plate              -25"
            ]
          },
          "metadata": {
            "tags": []
          },
          "execution_count": 26
        }
      ]
    },
    {
      "metadata": {
        "id": "hz57GteuHkRl",
        "colab_type": "text"
      },
      "cell_type": "markdown",
      "source": [
        "# Los 10 mejores jugadores\n",
        "\n",
        "Son los jugadores que mas puntos sacaron"
      ]
    },
    {
      "metadata": {
        "id": "-UM8W478DmfO",
        "colab_type": "code",
        "colab": {
          "autoexec": {
            "startup": false,
            "wait_interval": 0
          },
          "base_uri": "https://localhost:8080/",
          "height": 359
        },
        "outputId": "38510570-719a-44e9-e209-b25f63b8fb3e",
        "executionInfo": {
          "status": "ok",
          "timestamp": 1532030230403,
          "user_tz": 180,
          "elapsed": 735,
          "user": {
            "displayName": "Aizemberg Ariel",
            "photoUrl": "//lh3.googleusercontent.com/-AvOFTm_6_SQ/AAAAAAAAAAI/AAAAAAAAADM/q8w7UntCKso/s50-c-k-no/photo.jpg",
            "userId": "110482283134644821546"
          }
        }
      },
      "cell_type": "code",
      "source": [
        "df[['nombre','club','variacion']].sort_values(by='variacion', ascending=False).head(10)"
      ],
      "execution_count": 45,
      "outputs": [
        {
          "output_type": "execute_result",
          "data": {
            "text/html": [
              "<div>\n",
              "<style scoped>\n",
              "    .dataframe tbody tr th:only-of-type {\n",
              "        vertical-align: middle;\n",
              "    }\n",
              "\n",
              "    .dataframe tbody tr th {\n",
              "        vertical-align: top;\n",
              "    }\n",
              "\n",
              "    .dataframe thead th {\n",
              "        text-align: right;\n",
              "    }\n",
              "</style>\n",
              "<table border=\"1\" class=\"dataframe\">\n",
              "  <thead>\n",
              "    <tr style=\"text-align: right;\">\n",
              "      <th></th>\n",
              "      <th>nombre</th>\n",
              "      <th>club</th>\n",
              "      <th>variacion</th>\n",
              "    </tr>\n",
              "  </thead>\n",
              "  <tbody>\n",
              "    <tr>\n",
              "      <th>117</th>\n",
              "      <td>Melluso, Salvador</td>\n",
              "      <td>Gimnasty</td>\n",
              "      <td>540</td>\n",
              "    </tr>\n",
              "    <tr>\n",
              "      <th>154</th>\n",
              "      <td>Armoa, Santiago</td>\n",
              "      <td>Alvear Club</td>\n",
              "      <td>388</td>\n",
              "    </tr>\n",
              "    <tr>\n",
              "      <th>204</th>\n",
              "      <td>Candela, Juan</td>\n",
              "      <td>Club Fenix</td>\n",
              "      <td>387</td>\n",
              "    </tr>\n",
              "    <tr>\n",
              "      <th>196</th>\n",
              "      <td>Basso, Valentin</td>\n",
              "      <td>Gimnasty</td>\n",
              "      <td>337</td>\n",
              "    </tr>\n",
              "    <tr>\n",
              "      <th>203</th>\n",
              "      <td>Mortula, Luciano</td>\n",
              "      <td>La Legión TDM</td>\n",
              "      <td>305</td>\n",
              "    </tr>\n",
              "    <tr>\n",
              "      <th>202</th>\n",
              "      <td>Jaimovich, Ignacio</td>\n",
              "      <td>Top Minc</td>\n",
              "      <td>292</td>\n",
              "    </tr>\n",
              "    <tr>\n",
              "      <th>162</th>\n",
              "      <td>Buscema, Milton</td>\n",
              "      <td>Alvear Club</td>\n",
              "      <td>268</td>\n",
              "    </tr>\n",
              "    <tr>\n",
              "      <th>179</th>\n",
              "      <td>Romero, Santiago</td>\n",
              "      <td>Ateneo de Versailles</td>\n",
              "      <td>202</td>\n",
              "    </tr>\n",
              "    <tr>\n",
              "      <th>296</th>\n",
              "      <td>Yonamine, Ricardo</td>\n",
              "      <td>UGAB</td>\n",
              "      <td>193</td>\n",
              "    </tr>\n",
              "    <tr>\n",
              "      <th>325</th>\n",
              "      <td>Rodriguez Salem, Ignacio</td>\n",
              "      <td>Gimnasty</td>\n",
              "      <td>182</td>\n",
              "    </tr>\n",
              "  </tbody>\n",
              "</table>\n",
              "</div>"
            ],
            "text/plain": [
              "                       nombre                  club  variacion\n",
              "117         Melluso, Salvador              Gimnasty        540\n",
              "154           Armoa, Santiago           Alvear Club        388\n",
              "204             Candela, Juan            Club Fenix        387\n",
              "196           Basso, Valentin              Gimnasty        337\n",
              "203          Mortula, Luciano         La Legión TDM        305\n",
              "202        Jaimovich, Ignacio              Top Minc        292\n",
              "162           Buscema, Milton           Alvear Club        268\n",
              "179          Romero, Santiago  Ateneo de Versailles        202\n",
              "296         Yonamine, Ricardo                  UGAB        193\n",
              "325  Rodriguez Salem, Ignacio              Gimnasty        182"
            ]
          },
          "metadata": {
            "tags": []
          },
          "execution_count": 45
        }
      ]
    }
  ]
}